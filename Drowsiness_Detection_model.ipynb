{
 "cells": [
  {
   "cell_type": "code",
   "execution_count": 6,
   "id": "92ed819d",
   "metadata": {},
   "outputs": [],
   "source": [
    "import tensorflow as tf\n",
    "import os\n",
    "from keras.preprocessing import image\n",
    "import matplotlib.pyplot as plt \n",
    "import numpy as np\n",
    "from keras.utils.np_utils import to_categorical\n",
    "import random,shutil\n",
    "from keras.models import Sequential\n",
    "from keras.layers import Dropout,Conv2D,Flatten,Dense, MaxPooling2D, BatchNormalization\n",
    "from keras.models import load_model\n"
   ]
  },
  {
   "cell_type": "code",
   "execution_count": 7,
   "id": "32e020f4",
   "metadata": {},
   "outputs": [],
   "source": [
    "def generator(dir, gen=image.ImageDataGenerator(rescale=1./255), \n",
    "              shuffle=True,batch_size=1,\n",
    "              target_size=(24,24),\n",
    "              class_mode='categorical'):\n",
    "    \n",
    "    return gen.flow_from_directory(dir,batch_size=batch_size,\n",
    "                                   shuffle=shuffle,color_mode='grayscale',\n",
    "                                   class_mode=class_mode,\n",
    "                                   target_size=target_size)"
   ]
  },
  {
   "cell_type": "code",
   "execution_count": 8,
   "id": "6f980466",
   "metadata": {},
   "outputs": [
    {
     "name": "stdout",
     "output_type": "stream",
     "text": [
      "Found 2467 images belonging to 4 classes.\n",
      "Found 433 images belonging to 4 classes.\n",
      "77 13\n"
     ]
    }
   ],
   "source": [
    "BS= 32\n",
    "TS=(24,24)\n",
    "train_batch= generator('Datasets\\\\Drowsiness_Detection_Dataset\\\\dataset_new\\\\train',shuffle=True, batch_size=BS,target_size=TS)\n",
    "valid_batch= generator('Datasets\\\\Drowsiness_Detection_Dataset\\\\dataset_new\\\\test',shuffle=True, batch_size=BS,target_size=TS)\n",
    "SPE= len(train_batch.classes)//BS\n",
    "VS = len(valid_batch.classes)//BS\n",
    "print(SPE,VS)"
   ]
  },
  {
   "cell_type": "code",
   "execution_count": 9,
   "id": "8ed6a4e1",
   "metadata": {},
   "outputs": [],
   "source": [
    "# img,labels= next(train_batch)\n",
    "# print(img.shape)\n",
    "\n",
    "model = Sequential([\n",
    "    Conv2D(32, kernel_size=(3, 3), activation='relu', input_shape=(24,24,1)),\n",
    "    MaxPooling2D(pool_size=(1,1)),\n",
    "    Conv2D(32,(3,3),activation='relu'),\n",
    "    MaxPooling2D(pool_size=(1,1)),\n",
    "#32 convolution filters used each of size 3x3\n",
    "#again\n",
    "    Conv2D(64, (3, 3), activation='relu'),\n",
    "    MaxPooling2D(pool_size=(1,1)),\n",
    "\n",
    "#64 convolution filters used each of size 3x3\n",
    "#choose the best features via pooling\n",
    "    \n",
    "#randomly turn neurons on and off to improve convergence\n",
    "    Dropout(0.25),\n",
    "#flatten since too many dimensions, we only want a classification output\n",
    "    Flatten(),\n",
    "#fully connected to get all relevant data\n",
    "    Dense(128, activation='relu'),\n",
    "#one more dropout for convergence' sake :) \n",
    "    Dropout(0.5),\n",
    "#output a softmax to squash the matrix into output probabilities\n",
    "    Dense(4, activation='softmax')\n",
    "])\n"
   ]
  },
  {
   "cell_type": "code",
   "execution_count": 10,
   "id": "444e8548",
   "metadata": {},
   "outputs": [
    {
     "name": "stdout",
     "output_type": "stream",
     "text": [
      "Epoch 1/15\n",
      "77/77 [==============================] - 8s 98ms/step - loss: 0.6690 - accuracy: 0.6854 - val_loss: 0.4436 - val_accuracy: 0.7981\n",
      "Epoch 2/15\n",
      "77/77 [==============================] - 7s 87ms/step - loss: 0.4008 - accuracy: 0.8057 - val_loss: 0.3483 - val_accuracy: 0.8221\n",
      "Epoch 3/15\n",
      "77/77 [==============================] - 7s 86ms/step - loss: 0.3423 - accuracy: 0.8292 - val_loss: 0.3421 - val_accuracy: 0.8486\n",
      "Epoch 4/15\n",
      "77/77 [==============================] - 6s 84ms/step - loss: 0.3050 - accuracy: 0.8542 - val_loss: 0.3078 - val_accuracy: 0.8678\n",
      "Epoch 5/15\n",
      "77/77 [==============================] - 6s 82ms/step - loss: 0.2726 - accuracy: 0.8702 - val_loss: 0.2944 - val_accuracy: 0.8558\n",
      "Epoch 6/15\n",
      "77/77 [==============================] - 6s 84ms/step - loss: 0.2593 - accuracy: 0.8896 - val_loss: 0.2745 - val_accuracy: 0.8654\n",
      "Epoch 7/15\n",
      "77/77 [==============================] - 6s 82ms/step - loss: 0.2177 - accuracy: 0.9014 - val_loss: 0.2581 - val_accuracy: 0.8846\n",
      "Epoch 8/15\n",
      "77/77 [==============================] - 6s 84ms/step - loss: 0.1979 - accuracy: 0.9133 - val_loss: 0.2542 - val_accuracy: 0.8774\n",
      "Epoch 9/15\n",
      "77/77 [==============================] - 7s 85ms/step - loss: 0.1649 - accuracy: 0.9359 - val_loss: 0.2360 - val_accuracy: 0.9087\n",
      "Epoch 10/15\n",
      "77/77 [==============================] - 7s 85ms/step - loss: 0.1357 - accuracy: 0.9437 - val_loss: 0.2345 - val_accuracy: 0.8870\n",
      "Epoch 11/15\n",
      "77/77 [==============================] - 6s 83ms/step - loss: 0.1568 - accuracy: 0.9372 - val_loss: 0.2270 - val_accuracy: 0.9038\n",
      "Epoch 12/15\n",
      "77/77 [==============================] - 7s 86ms/step - loss: 0.1175 - accuracy: 0.9503 - val_loss: 0.2097 - val_accuracy: 0.9183\n",
      "Epoch 13/15\n",
      "77/77 [==============================] - 7s 89ms/step - loss: 0.1120 - accuracy: 0.9561 - val_loss: 0.2116 - val_accuracy: 0.9231\n",
      "Epoch 14/15\n",
      "77/77 [==============================] - 7s 87ms/step - loss: 0.0810 - accuracy: 0.9688 - val_loss: 0.1885 - val_accuracy: 0.9423\n",
      "Epoch 15/15\n",
      "77/77 [==============================] - 8s 99ms/step - loss: 0.0793 - accuracy: 0.9700 - val_loss: 0.2340 - val_accuracy: 0.9135\n"
     ]
    }
   ],
   "source": [
    "model.compile(optimizer = 'Adam', loss = 'categorical_crossentropy', metrics = ['accuracy'])\n",
    "\n",
    "train_model = model.fit(train_batch, \n",
    "                                  validation_data=valid_batch,\n",
    "                                  epochs=15,\n",
    "                                  steps_per_epoch=SPE,\n",
    "                                  validation_steps=VS)\n",
    "model.save('drowsiness_detection.h5', overwrite = True)"
   ]
  }
 ],
 "metadata": {
  "kernelspec": {
   "display_name": "Python 3 (ipykernel)",
   "language": "python",
   "name": "python3"
  },
  "language_info": {
   "codemirror_mode": {
    "name": "ipython",
    "version": 3
   },
   "file_extension": ".py",
   "mimetype": "text/x-python",
   "name": "python",
   "nbconvert_exporter": "python",
   "pygments_lexer": "ipython3",
   "version": "3.10.4"
  }
 },
 "nbformat": 4,
 "nbformat_minor": 5
}
